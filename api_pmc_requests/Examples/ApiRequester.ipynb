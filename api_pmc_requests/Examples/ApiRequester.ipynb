{
 "cells": [
  {
   "cell_type": "code",
   "execution_count": 1,
   "metadata": {},
   "outputs": [],
   "source": [
    "# DOWNLOAD MODULE\n",
    "# git clone https://github.com/erdenirf/api_pmc_requests.git"
   ]
  },
  {
   "cell_type": "code",
   "execution_count": 2,
   "metadata": {},
   "outputs": [],
   "source": [
    "# pip install -r api_pmc_requests/requirements.txt"
   ]
  },
  {
   "cell_type": "code",
   "execution_count": 3,
   "metadata": {},
   "outputs": [],
   "source": [
    "from api_pmc_requests import PMCRequester\n",
    "from functools import partial\n",
    "import orjson"
   ]
  },
  {
   "cell_type": "code",
   "execution_count": 4,
   "metadata": {},
   "outputs": [
    {
     "name": "stdout",
     "output_type": "stream",
     "text": [
      "[WARNING]: Remote server config file is not loaded. We use localhost. unexpected character: line 2 column 2 (char 3)\n"
     ]
    }
   ],
   "source": [
    "HOST = '127.0.0.1'\n",
    "PORT = '9202'\n",
    "\n",
    "try:\n",
    "    with open('.api_pmc_requests.cfg', 'rb') as file:\n",
    "        config = orjson.loads(file.read())\n",
    "        HOST = config.get('host')\n",
    "        PORT = config.get('port')\n",
    "    print('[INFO]: Remote server config file is loaded successfully.')\n",
    "except Exception as e:\n",
    "    print('[WARNING]: Remote server config file is not loaded. We use localhost.', e)"
   ]
  },
  {
   "cell_type": "code",
   "execution_count": 5,
   "metadata": {},
   "outputs": [],
   "source": [
    "api = PMCRequester(ip_address=HOST, port=PORT)"
   ]
  },
  {
   "cell_type": "code",
   "execution_count": 6,
   "metadata": {},
   "outputs": [
    {
     "name": "stdout",
     "output_type": "stream",
     "text": [
      "0 []\n"
     ]
    }
   ],
   "source": [
    "array = api.find_titles_top5('Hello')\n",
    "print(len(array), array)"
   ]
  },
  {
   "cell_type": "code",
   "execution_count": 7,
   "metadata": {},
   "outputs": [
    {
     "name": "stdout",
     "output_type": "stream",
     "text": [
      "0 []\n"
     ]
    }
   ],
   "source": [
    "array = api.find_titles_top5('fffffffffffffffffffff')\n",
    "print(len(array), array)"
   ]
  },
  {
   "cell_type": "code",
   "execution_count": 8,
   "metadata": {},
   "outputs": [
    {
     "name": "stdout",
     "output_type": "stream",
     "text": [
      "0 []\n"
     ]
    }
   ],
   "source": [
    "array = api.find_titles_top5('molecular engineering')\n",
    "print(len(array), array)"
   ]
  },
  {
   "cell_type": "code",
   "execution_count": 9,
   "metadata": {},
   "outputs": [
    {
     "name": "stdout",
     "output_type": "stream",
     "text": [
      "None\n"
     ]
    }
   ],
   "source": [
    "title = api.find_title('Hello')     #threshold=15\n",
    "print(title)"
   ]
  },
  {
   "cell_type": "code",
   "execution_count": 10,
   "metadata": {},
   "outputs": [
    {
     "name": "stdout",
     "output_type": "stream",
     "text": [
      "None\n"
     ]
    }
   ],
   "source": [
    "title = api.find_title('Hello', threshold=30)\n",
    "print(title)"
   ]
  },
  {
   "cell_type": "code",
   "execution_count": 11,
   "metadata": {},
   "outputs": [
    {
     "name": "stdout",
     "output_type": "stream",
     "text": [
      "Not found.\n"
     ]
    }
   ],
   "source": [
    "title = api.find_title('Hello', threshold=30, default='Not found.')\n",
    "print(title)"
   ]
  },
  {
   "cell_type": "code",
   "execution_count": 12,
   "metadata": {},
   "outputs": [
    {
     "data": {
      "text/plain": [
       "['Comparative biochemical studies on meditation.']"
      ]
     },
     "execution_count": 12,
     "metadata": {},
     "output_type": "execute_result"
    }
   ],
   "source": [
    "api.find_titles_top5(\"The effect of mindfulness meditation on anger\")"
   ]
  },
  {
   "cell_type": "code",
   "execution_count": 13,
   "metadata": {},
   "outputs": [
    {
     "data": {
      "text/plain": [
       "['The effect of mindfulness meditation on anger',\n",
       " 'The impact of mindfulness meditation on anger and depressive symptomatology in patients with PTSD',\n",
       " 'Effects of mindfulness meditation on emotion regulation in highly meditating adults',\n",
       " 'Effects of mindfulness meditation on emotion regulation and well-being in clinical samples with anxiety and mood disorders',\n",
       " 'The role of mindfulness meditation in regulating emotion dysregulation and improving well-being in induviduals with borderline personality disorder and post-traumatic stress disorder']"
      ]
     },
     "execution_count": 13,
     "metadata": {},
     "output_type": "execute_result"
    }
   ],
   "source": [
    "names = [\n",
    "    \"The effect of mindfulness meditation on anger\",\n",
    "    \"The impact of mindfulness meditation on anger and depressive symptomatology in patients with PTSD\",\n",
    "    \"Effects of mindfulness meditation on emotion regulation in highly meditating adults\",\n",
    "    \"Effects of mindfulness meditation on emotion regulation and well-being in clinical samples with anxiety and mood disorders\",\n",
    "    \"The role of mindfulness meditation in regulating emotion dysregulation and improving well-being in induviduals with borderline personality disorder and post-traumatic stress disorder\"\n",
    "]\n",
    "names"
   ]
  },
  {
   "cell_type": "code",
   "execution_count": 14,
   "metadata": {},
   "outputs": [
    {
     "data": {
      "text/plain": [
       "['Comparative biochemical studies on meditation.',\n",
       " 'Studies with oral lorazepam in anxiety neurosis associated with depressive symptomatology.',\n",
       " 'Comparative biochemical studies on meditation.',\n",
       " 'Editorial: The role of emotional granularity in emotional regulation, mental disorders, and well-being.',\n",
       " 'Postpartum post-traumatic stress disorder symptoms in high-risk pregnancies: Associated resilience and social support.']"
      ]
     },
     "execution_count": 14,
     "metadata": {},
     "output_type": "execute_result"
    }
   ],
   "source": [
    "changed_names = list(map(api.find_title, names))\n",
    "changed_names"
   ]
  },
  {
   "cell_type": "code",
   "execution_count": 15,
   "metadata": {},
   "outputs": [
    {
     "data": {
      "text/plain": [
       "[None,\n",
       " None,\n",
       " None,\n",
       " None,\n",
       " 'Postpartum post-traumatic stress disorder symptoms in high-risk pregnancies: Associated resilience and social support.']"
      ]
     },
     "execution_count": 15,
     "metadata": {},
     "output_type": "execute_result"
    }
   ],
   "source": [
    "func_renamer1 = partial(api.find_title, threshold=30, default=None)\n",
    "changed_names1 = list(map(func_renamer1, names))\n",
    "changed_names1"
   ]
  },
  {
   "cell_type": "code",
   "execution_count": 16,
   "metadata": {},
   "outputs": [
    {
     "data": {
      "text/plain": [
       "['N/A', 'N/A', 'N/A', 'N/A', 'N/A']"
      ]
     },
     "execution_count": 16,
     "metadata": {},
     "output_type": "execute_result"
    }
   ],
   "source": [
    "func_renamer2 = partial(api.find_title, threshold=40, default=\"N/A\")\n",
    "changed_names2 = list(map(func_renamer2, names))\n",
    "changed_names2"
   ]
  }
 ],
 "metadata": {
  "kernelspec": {
   "display_name": "base",
   "language": "python",
   "name": "python3"
  },
  "language_info": {
   "codemirror_mode": {
    "name": "ipython",
    "version": 3
   },
   "file_extension": ".py",
   "mimetype": "text/x-python",
   "name": "python",
   "nbconvert_exporter": "python",
   "pygments_lexer": "ipython3",
   "version": "3.10.9"
  },
  "orig_nbformat": 4
 },
 "nbformat": 4,
 "nbformat_minor": 2
}
